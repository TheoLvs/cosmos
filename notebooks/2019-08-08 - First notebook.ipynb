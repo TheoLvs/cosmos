{
 "cells": [
  {
   "cell_type": "markdown",
   "metadata": {},
   "source": [
    "# Fastml"
   ]
  },
  {
   "cell_type": "code",
   "execution_count": 41,
   "metadata": {
    "ExecuteTime": {
     "end_time": "2019-08-23T09:33:24.298044Z",
     "start_time": "2019-08-23T09:33:23.383568Z"
    }
   },
   "outputs": [
    {
     "name": "stdout",
     "output_type": "stream",
     "text": [
      "The autoreload extension is already loaded. To reload it, use:\n",
      "  %reload_ext autoreload\n"
     ]
    }
   ],
   "source": [
    "# Base Data Science snippet\n",
    "import pandas as pd\n",
    "import numpy as np\n",
    "import matplotlib.pyplot as plt\n",
    "import os\n",
    "import time\n",
    "from tqdm import tqdm_notebook\n",
    "\n",
    "%matplotlib inline\n",
    "%load_ext autoreload\n",
    "%autoreload 2"
   ]
  },
  {
   "cell_type": "markdown",
   "metadata": {},
   "source": [
    "# Playground"
   ]
  },
  {
   "cell_type": "code",
   "execution_count": 42,
   "metadata": {
    "ExecuteTime": {
     "end_time": "2019-08-23T09:33:28.481856Z",
     "start_time": "2019-08-23T09:33:28.012299Z"
    }
   },
   "outputs": [],
   "source": [
    "from sklearn.datasets import load_iris,load_breast_cancer\n",
    "data = load_breast_cancer(return_X_y=False)\n",
    "df = pd.DataFrame(data[\"data\"],columns = data[\"feature_names\"])\n",
    "df[\"target\"] = data[\"target\"]"
   ]
  },
  {
   "cell_type": "code",
   "execution_count": 68,
   "metadata": {
    "ExecuteTime": {
     "end_time": "2019-08-23T10:50:17.554174Z",
     "start_time": "2019-08-23T10:50:17.027076Z"
    }
   },
   "outputs": [],
   "source": [
    "import sys\n",
    "sys.path.append(\"C:/git/fastml/\")\n",
    "from fastml.data.data import Dataset\n",
    "from fastml.data.exploration import EDA\n",
    "from fastml.models.classification import ClassificationProblem\n",
    "\n",
    "dataset = Dataset(df,\"target\",\"classification\")"
   ]
  },
  {
   "cell_type": "code",
   "execution_count": 82,
   "metadata": {
    "ExecuteTime": {
     "end_time": "2019-08-23T10:58:55.720407Z",
     "start_time": "2019-08-23T10:58:55.365217Z"
    }
   },
   "outputs": [],
   "source": [
    "from sklearn.ensemble import RandomForestClassifier\n",
    "models = [RandomForestClassifier(n_estimators=10*i) for i in range(1,11)]"
   ]
  },
  {
   "cell_type": "code",
   "execution_count": 83,
   "metadata": {
    "ExecuteTime": {
     "end_time": "2019-08-23T10:59:02.840550Z",
     "start_time": "2019-08-23T10:59:02.485464Z"
    }
   },
   "outputs": [],
   "source": [
    "dataset.train_test_split()"
   ]
  },
  {
   "cell_type": "code",
   "execution_count": 85,
   "metadata": {
    "ExecuteTime": {
     "end_time": "2019-08-23T10:59:17.629659Z",
     "start_time": "2019-08-23T10:59:17.280579Z"
    }
   },
   "outputs": [],
   "source": [
    "problem = ClassificationProblem(dataset)"
   ]
  },
  {
   "cell_type": "code",
   "execution_count": 86,
   "metadata": {
    "ExecuteTime": {
     "end_time": "2019-08-23T10:59:25.201252Z",
     "start_time": "2019-08-23T10:59:24.847198Z"
    }
   },
   "outputs": [],
   "source": [
    "problem.add_models(models)"
   ]
  },
  {
   "cell_type": "code",
   "execution_count": 89,
   "metadata": {
    "ExecuteTime": {
     "end_time": "2019-08-23T11:00:55.186178Z",
     "start_time": "2019-08-23T11:00:54.050220Z"
    }
   },
   "outputs": [],
   "source": [
    "pred,metrics,matrices = problem.evaluate()"
   ]
  },
  {
   "cell_type": "code",
   "execution_count": 94,
   "metadata": {
    "ExecuteTime": {
     "end_time": "2019-08-23T11:02:11.504899Z",
     "start_time": "2019-08-23T11:02:11.109933Z"
    }
   },
   "outputs": [
    {
     "data": {
      "text/html": [
       "<style  type=\"text/css\" >\n",
       "    #T_74fbcea6_c595_11e9_b7f7_34415d8a70d1row0_col1 {\n",
       "            background-color:  #023858;\n",
       "            color:  #f1f1f1;\n",
       "        }    #T_74fbcea6_c595_11e9_b7f7_34415d8a70d1row1_col1 {\n",
       "            background-color:  #04649e;\n",
       "            color:  #f1f1f1;\n",
       "        }    #T_74fbcea6_c595_11e9_b7f7_34415d8a70d1row2_col1 {\n",
       "            background-color:  #2f8bbe;\n",
       "            color:  #000000;\n",
       "        }    #T_74fbcea6_c595_11e9_b7f7_34415d8a70d1row3_col1 {\n",
       "            background-color:  #8eb3d5;\n",
       "            color:  #000000;\n",
       "        }    #T_74fbcea6_c595_11e9_b7f7_34415d8a70d1row4_col1 {\n",
       "            background-color:  #93b5d6;\n",
       "            color:  #000000;\n",
       "        }    #T_74fbcea6_c595_11e9_b7f7_34415d8a70d1row5_col1 {\n",
       "            background-color:  #93b5d6;\n",
       "            color:  #000000;\n",
       "        }    #T_74fbcea6_c595_11e9_b7f7_34415d8a70d1row6_col1 {\n",
       "            background-color:  #94b6d7;\n",
       "            color:  #000000;\n",
       "        }    #T_74fbcea6_c595_11e9_b7f7_34415d8a70d1row7_col1 {\n",
       "            background-color:  #94b6d7;\n",
       "            color:  #000000;\n",
       "        }    #T_74fbcea6_c595_11e9_b7f7_34415d8a70d1row8_col1 {\n",
       "            background-color:  #94b6d7;\n",
       "            color:  #000000;\n",
       "        }    #T_74fbcea6_c595_11e9_b7f7_34415d8a70d1row9_col1 {\n",
       "            background-color:  #94b6d7;\n",
       "            color:  #000000;\n",
       "        }    #T_74fbcea6_c595_11e9_b7f7_34415d8a70d1row10_col1 {\n",
       "            background-color:  #96b6d7;\n",
       "            color:  #000000;\n",
       "        }    #T_74fbcea6_c595_11e9_b7f7_34415d8a70d1row11_col1 {\n",
       "            background-color:  #96b6d7;\n",
       "            color:  #000000;\n",
       "        }    #T_74fbcea6_c595_11e9_b7f7_34415d8a70d1row12_col1 {\n",
       "            background-color:  #97b7d7;\n",
       "            color:  #000000;\n",
       "        }    #T_74fbcea6_c595_11e9_b7f7_34415d8a70d1row13_col1 {\n",
       "            background-color:  #99b8d8;\n",
       "            color:  #000000;\n",
       "        }    #T_74fbcea6_c595_11e9_b7f7_34415d8a70d1row14_col1 {\n",
       "            background-color:  #9ab8d8;\n",
       "            color:  #000000;\n",
       "        }    #T_74fbcea6_c595_11e9_b7f7_34415d8a70d1row15_col1 {\n",
       "            background-color:  #9ab8d8;\n",
       "            color:  #000000;\n",
       "        }    #T_74fbcea6_c595_11e9_b7f7_34415d8a70d1row16_col1 {\n",
       "            background-color:  #9ebad9;\n",
       "            color:  #000000;\n",
       "        }    #T_74fbcea6_c595_11e9_b7f7_34415d8a70d1row17_col1 {\n",
       "            background-color:  #9fbad9;\n",
       "            color:  #000000;\n",
       "        }    #T_74fbcea6_c595_11e9_b7f7_34415d8a70d1row18_col1 {\n",
       "            background-color:  #a2bcda;\n",
       "            color:  #000000;\n",
       "        }    #T_74fbcea6_c595_11e9_b7f7_34415d8a70d1row19_col1 {\n",
       "            background-color:  #a5bddb;\n",
       "            color:  #000000;\n",
       "        }    #T_74fbcea6_c595_11e9_b7f7_34415d8a70d1row20_col1 {\n",
       "            background-color:  #acc0dd;\n",
       "            color:  #000000;\n",
       "        }    #T_74fbcea6_c595_11e9_b7f7_34415d8a70d1row21_col1 {\n",
       "            background-color:  #afc1dd;\n",
       "            color:  #000000;\n",
       "        }    #T_74fbcea6_c595_11e9_b7f7_34415d8a70d1row22_col1 {\n",
       "            background-color:  #b0c2de;\n",
       "            color:  #000000;\n",
       "        }    #T_74fbcea6_c595_11e9_b7f7_34415d8a70d1row23_col1 {\n",
       "            background-color:  #b1c2de;\n",
       "            color:  #000000;\n",
       "        }    #T_74fbcea6_c595_11e9_b7f7_34415d8a70d1row24_col1 {\n",
       "            background-color:  #bcc7e1;\n",
       "            color:  #000000;\n",
       "        }    #T_74fbcea6_c595_11e9_b7f7_34415d8a70d1row25_col1 {\n",
       "            background-color:  #cacee5;\n",
       "            color:  #000000;\n",
       "        }    #T_74fbcea6_c595_11e9_b7f7_34415d8a70d1row26_col1 {\n",
       "            background-color:  #d1d2e6;\n",
       "            color:  #000000;\n",
       "        }    #T_74fbcea6_c595_11e9_b7f7_34415d8a70d1row27_col1 {\n",
       "            background-color:  #d2d2e7;\n",
       "            color:  #000000;\n",
       "        }    #T_74fbcea6_c595_11e9_b7f7_34415d8a70d1row28_col1 {\n",
       "            background-color:  #ede8f3;\n",
       "            color:  #000000;\n",
       "        }    #T_74fbcea6_c595_11e9_b7f7_34415d8a70d1row29_col1 {\n",
       "            background-color:  #fff7fb;\n",
       "            color:  #000000;\n",
       "        }</style><table id=\"T_74fbcea6_c595_11e9_b7f7_34415d8a70d1\" ><thead>    <tr>        <th class=\"blank level0\" ></th>        <th class=\"col_heading level0 col0\" >feature</th>        <th class=\"col_heading level0 col1\" >coef</th>    </tr></thead><tbody>\n",
       "                <tr>\n",
       "                        <th id=\"T_74fbcea6_c595_11e9_b7f7_34415d8a70d1level0_row0\" class=\"row_heading level0 row0\" >0</th>\n",
       "                        <td id=\"T_74fbcea6_c595_11e9_b7f7_34415d8a70d1row0_col0\" class=\"data row0 col0\" >mean radius</td>\n",
       "                        <td id=\"T_74fbcea6_c595_11e9_b7f7_34415d8a70d1row0_col1\" class=\"data row0 col1\" >2.15674</td>\n",
       "            </tr>\n",
       "            <tr>\n",
       "                        <th id=\"T_74fbcea6_c595_11e9_b7f7_34415d8a70d1level0_row1\" class=\"row_heading level0 row1\" >1</th>\n",
       "                        <td id=\"T_74fbcea6_c595_11e9_b7f7_34415d8a70d1row1_col0\" class=\"data row1 col0\" >worst radius</td>\n",
       "                        <td id=\"T_74fbcea6_c595_11e9_b7f7_34415d8a70d1row1_col1\" class=\"data row1 col1\" >1.46464</td>\n",
       "            </tr>\n",
       "            <tr>\n",
       "                        <th id=\"T_74fbcea6_c595_11e9_b7f7_34415d8a70d1level0_row2\" class=\"row_heading level0 row2\" >2</th>\n",
       "                        <td id=\"T_74fbcea6_c595_11e9_b7f7_34415d8a70d1row2_col0\" class=\"data row2 col0\" >texture error</td>\n",
       "                        <td id=\"T_74fbcea6_c595_11e9_b7f7_34415d8a70d1row2_col1\" class=\"data row2 col1\" >0.813138</td>\n",
       "            </tr>\n",
       "            <tr>\n",
       "                        <th id=\"T_74fbcea6_c595_11e9_b7f7_34415d8a70d1level0_row3\" class=\"row_heading level0 row3\" >3</th>\n",
       "                        <td id=\"T_74fbcea6_c595_11e9_b7f7_34415d8a70d1row3_col0\" class=\"data row3 col0\" >mean texture</td>\n",
       "                        <td id=\"T_74fbcea6_c595_11e9_b7f7_34415d8a70d1row3_col1\" class=\"data row3 col1\" >0.0352574</td>\n",
       "            </tr>\n",
       "            <tr>\n",
       "                        <th id=\"T_74fbcea6_c595_11e9_b7f7_34415d8a70d1level0_row4\" class=\"row_heading level0 row4\" >4</th>\n",
       "                        <td id=\"T_74fbcea6_c595_11e9_b7f7_34415d8a70d1row4_col0\" class=\"data row4 col0\" >fractal dimension error</td>\n",
       "                        <td id=\"T_74fbcea6_c595_11e9_b7f7_34415d8a70d1row4_col1\" class=\"data row4 col1\" >0.00469539</td>\n",
       "            </tr>\n",
       "            <tr>\n",
       "                        <th id=\"T_74fbcea6_c595_11e9_b7f7_34415d8a70d1level0_row5\" class=\"row_heading level0 row5\" >5</th>\n",
       "                        <td id=\"T_74fbcea6_c595_11e9_b7f7_34415d8a70d1row5_col0\" class=\"data row5 col0\" >mean perimeter</td>\n",
       "                        <td id=\"T_74fbcea6_c595_11e9_b7f7_34415d8a70d1row5_col1\" class=\"data row5 col1\" >-0.0056398</td>\n",
       "            </tr>\n",
       "            <tr>\n",
       "                        <th id=\"T_74fbcea6_c595_11e9_b7f7_34415d8a70d1level0_row6\" class=\"row_heading level0 row6\" >6</th>\n",
       "                        <td id=\"T_74fbcea6_c595_11e9_b7f7_34415d8a70d1row6_col0\" class=\"data row6 col0\" >mean area</td>\n",
       "                        <td id=\"T_74fbcea6_c595_11e9_b7f7_34415d8a70d1row6_col1\" class=\"data row6 col1\" >-0.0107507</td>\n",
       "            </tr>\n",
       "            <tr>\n",
       "                        <th id=\"T_74fbcea6_c595_11e9_b7f7_34415d8a70d1level0_row7\" class=\"row_heading level0 row7\" >7</th>\n",
       "                        <td id=\"T_74fbcea6_c595_11e9_b7f7_34415d8a70d1row7_col0\" class=\"data row7 col0\" >smoothness error</td>\n",
       "                        <td id=\"T_74fbcea6_c595_11e9_b7f7_34415d8a70d1row7_col1\" class=\"data row7 col1\" >-0.0165888</td>\n",
       "            </tr>\n",
       "            <tr>\n",
       "                        <th id=\"T_74fbcea6_c595_11e9_b7f7_34415d8a70d1level0_row8\" class=\"row_heading level0 row8\" >8</th>\n",
       "                        <td id=\"T_74fbcea6_c595_11e9_b7f7_34415d8a70d1row8_col0\" class=\"data row8 col0\" >compactness error</td>\n",
       "                        <td id=\"T_74fbcea6_c595_11e9_b7f7_34415d8a70d1row8_col1\" class=\"data row8 col1\" >-0.0181315</td>\n",
       "            </tr>\n",
       "            <tr>\n",
       "                        <th id=\"T_74fbcea6_c595_11e9_b7f7_34415d8a70d1level0_row9\" class=\"row_heading level0 row9\" >9</th>\n",
       "                        <td id=\"T_74fbcea6_c595_11e9_b7f7_34415d8a70d1row9_col0\" class=\"data row9 col0\" >worst area</td>\n",
       "                        <td id=\"T_74fbcea6_c595_11e9_b7f7_34415d8a70d1row9_col1\" class=\"data row9 col1\" >-0.0219061</td>\n",
       "            </tr>\n",
       "            <tr>\n",
       "                        <th id=\"T_74fbcea6_c595_11e9_b7f7_34415d8a70d1level0_row10\" class=\"row_heading level0 row10\" >10</th>\n",
       "                        <td id=\"T_74fbcea6_c595_11e9_b7f7_34415d8a70d1row10_col0\" class=\"data row10 col0\" >mean fractal dimension</td>\n",
       "                        <td id=\"T_74fbcea6_c595_11e9_b7f7_34415d8a70d1row10_col1\" class=\"data row10 col1\" >-0.0281438</td>\n",
       "            </tr>\n",
       "            <tr>\n",
       "                        <th id=\"T_74fbcea6_c595_11e9_b7f7_34415d8a70d1level0_row11\" class=\"row_heading level0 row11\" >11</th>\n",
       "                        <td id=\"T_74fbcea6_c595_11e9_b7f7_34415d8a70d1row11_col0\" class=\"data row11 col0\" >concave points error</td>\n",
       "                        <td id=\"T_74fbcea6_c595_11e9_b7f7_34415d8a70d1row11_col1\" class=\"data row11 col1\" >-0.0351308</td>\n",
       "            </tr>\n",
       "            <tr>\n",
       "                        <th id=\"T_74fbcea6_c595_11e9_b7f7_34415d8a70d1level0_row12\" class=\"row_heading level0 row12\" >12</th>\n",
       "                        <td id=\"T_74fbcea6_c595_11e9_b7f7_34415d8a70d1row12_col0\" class=\"data row12 col0\" >radius error</td>\n",
       "                        <td id=\"T_74fbcea6_c595_11e9_b7f7_34415d8a70d1row12_col1\" class=\"data row12 col1\" >-0.0381742</td>\n",
       "            </tr>\n",
       "            <tr>\n",
       "                        <th id=\"T_74fbcea6_c595_11e9_b7f7_34415d8a70d1level0_row13\" class=\"row_heading level0 row13\" >13</th>\n",
       "                        <td id=\"T_74fbcea6_c595_11e9_b7f7_34415d8a70d1row13_col0\" class=\"data row13 col0\" >symmetry error</td>\n",
       "                        <td id=\"T_74fbcea6_c595_11e9_b7f7_34415d8a70d1row13_col1\" class=\"data row13 col1\" >-0.0534028</td>\n",
       "            </tr>\n",
       "            <tr>\n",
       "                        <th id=\"T_74fbcea6_c595_11e9_b7f7_34415d8a70d1level0_row14\" class=\"row_heading level0 row14\" >14</th>\n",
       "                        <td id=\"T_74fbcea6_c595_11e9_b7f7_34415d8a70d1row14_col0\" class=\"data row14 col0\" >concavity error</td>\n",
       "                        <td id=\"T_74fbcea6_c595_11e9_b7f7_34415d8a70d1row14_col1\" class=\"data row14 col1\" >-0.071428</td>\n",
       "            </tr>\n",
       "            <tr>\n",
       "                        <th id=\"T_74fbcea6_c595_11e9_b7f7_34415d8a70d1level0_row15\" class=\"row_heading level0 row15\" >15</th>\n",
       "                        <td id=\"T_74fbcea6_c595_11e9_b7f7_34415d8a70d1row15_col0\" class=\"data row15 col0\" >area error</td>\n",
       "                        <td id=\"T_74fbcea6_c595_11e9_b7f7_34415d8a70d1row15_col1\" class=\"data row15 col1\" >-0.0755153</td>\n",
       "            </tr>\n",
       "            <tr>\n",
       "                        <th id=\"T_74fbcea6_c595_11e9_b7f7_34415d8a70d1level0_row16\" class=\"row_heading level0 row16\" >16</th>\n",
       "                        <td id=\"T_74fbcea6_c595_11e9_b7f7_34415d8a70d1row16_col0\" class=\"data row16 col0\" >worst fractal dimension</td>\n",
       "                        <td id=\"T_74fbcea6_c595_11e9_b7f7_34415d8a70d1row16_col1\" class=\"data row16 col1\" >-0.109888</td>\n",
       "            </tr>\n",
       "            <tr>\n",
       "                        <th id=\"T_74fbcea6_c595_11e9_b7f7_34415d8a70d1level0_row17\" class=\"row_heading level0 row17\" >17</th>\n",
       "                        <td id=\"T_74fbcea6_c595_11e9_b7f7_34415d8a70d1row17_col0\" class=\"data row17 col0\" >perimeter error</td>\n",
       "                        <td id=\"T_74fbcea6_c595_11e9_b7f7_34415d8a70d1row17_col1\" class=\"data row17 col1\" >-0.119118</td>\n",
       "            </tr>\n",
       "            <tr>\n",
       "                        <th id=\"T_74fbcea6_c595_11e9_b7f7_34415d8a70d1level0_row18\" class=\"row_heading level0 row18\" >18</th>\n",
       "                        <td id=\"T_74fbcea6_c595_11e9_b7f7_34415d8a70d1row18_col0\" class=\"data row18 col0\" >mean smoothness</td>\n",
       "                        <td id=\"T_74fbcea6_c595_11e9_b7f7_34415d8a70d1row18_col1\" class=\"data row18 col1\" >-0.142596</td>\n",
       "            </tr>\n",
       "            <tr>\n",
       "                        <th id=\"T_74fbcea6_c595_11e9_b7f7_34415d8a70d1level0_row19\" class=\"row_heading level0 row19\" >19</th>\n",
       "                        <td id=\"T_74fbcea6_c595_11e9_b7f7_34415d8a70d1row19_col0\" class=\"data row19 col0\" >worst perimeter</td>\n",
       "                        <td id=\"T_74fbcea6_c595_11e9_b7f7_34415d8a70d1row19_col1\" class=\"data row19 col1\" >-0.179131</td>\n",
       "            </tr>\n",
       "            <tr>\n",
       "                        <th id=\"T_74fbcea6_c595_11e9_b7f7_34415d8a70d1level0_row20\" class=\"row_heading level0 row20\" >20</th>\n",
       "                        <td id=\"T_74fbcea6_c595_11e9_b7f7_34415d8a70d1row20_col0\" class=\"data row20 col0\" >mean symmetry</td>\n",
       "                        <td id=\"T_74fbcea6_c595_11e9_b7f7_34415d8a70d1row20_col1\" class=\"data row20 col1\" >-0.246373</td>\n",
       "            </tr>\n",
       "            <tr>\n",
       "                        <th id=\"T_74fbcea6_c595_11e9_b7f7_34415d8a70d1level0_row21\" class=\"row_heading level0 row21\" >21</th>\n",
       "                        <td id=\"T_74fbcea6_c595_11e9_b7f7_34415d8a70d1row21_col0\" class=\"data row21 col0\" >worst smoothness</td>\n",
       "                        <td id=\"T_74fbcea6_c595_11e9_b7f7_34415d8a70d1row21_col1\" class=\"data row21 col1\" >-0.273781</td>\n",
       "            </tr>\n",
       "            <tr>\n",
       "                        <th id=\"T_74fbcea6_c595_11e9_b7f7_34415d8a70d1level0_row22\" class=\"row_heading level0 row22\" >22</th>\n",
       "                        <td id=\"T_74fbcea6_c595_11e9_b7f7_34415d8a70d1row22_col0\" class=\"data row22 col0\" >worst texture</td>\n",
       "                        <td id=\"T_74fbcea6_c595_11e9_b7f7_34415d8a70d1row22_col1\" class=\"data row22 col1\" >-0.292267</td>\n",
       "            </tr>\n",
       "            <tr>\n",
       "                        <th id=\"T_74fbcea6_c595_11e9_b7f7_34415d8a70d1level0_row23\" class=\"row_heading level0 row23\" >23</th>\n",
       "                        <td id=\"T_74fbcea6_c595_11e9_b7f7_34415d8a70d1row23_col0\" class=\"data row23 col0\" >mean concave points</td>\n",
       "                        <td id=\"T_74fbcea6_c595_11e9_b7f7_34415d8a70d1row23_col1\" class=\"data row23 col1\" >-0.310202</td>\n",
       "            </tr>\n",
       "            <tr>\n",
       "                        <th id=\"T_74fbcea6_c595_11e9_b7f7_34415d8a70d1level0_row24\" class=\"row_heading level0 row24\" >24</th>\n",
       "                        <td id=\"T_74fbcea6_c595_11e9_b7f7_34415d8a70d1row24_col0\" class=\"data row24 col0\" >mean compactness</td>\n",
       "                        <td id=\"T_74fbcea6_c595_11e9_b7f7_34415d8a70d1row24_col1\" class=\"data row24 col1\" >-0.421165</td>\n",
       "            </tr>\n",
       "            <tr>\n",
       "                        <th id=\"T_74fbcea6_c595_11e9_b7f7_34415d8a70d1level0_row25\" class=\"row_heading level0 row25\" >25</th>\n",
       "                        <td id=\"T_74fbcea6_c595_11e9_b7f7_34415d8a70d1row25_col0\" class=\"data row25 col0\" >worst concave points</td>\n",
       "                        <td id=\"T_74fbcea6_c595_11e9_b7f7_34415d8a70d1row25_col1\" class=\"data row25 col1\" >-0.587926</td>\n",
       "            </tr>\n",
       "            <tr>\n",
       "                        <th id=\"T_74fbcea6_c595_11e9_b7f7_34415d8a70d1level0_row26\" class=\"row_heading level0 row26\" >26</th>\n",
       "                        <td id=\"T_74fbcea6_c595_11e9_b7f7_34415d8a70d1row26_col0\" class=\"data row26 col0\" >mean concavity</td>\n",
       "                        <td id=\"T_74fbcea6_c595_11e9_b7f7_34415d8a70d1row26_col1\" class=\"data row26 col1\" >-0.660158</td>\n",
       "            </tr>\n",
       "            <tr>\n",
       "                        <th id=\"T_74fbcea6_c595_11e9_b7f7_34415d8a70d1level0_row27\" class=\"row_heading level0 row27\" >27</th>\n",
       "                        <td id=\"T_74fbcea6_c595_11e9_b7f7_34415d8a70d1row27_col0\" class=\"data row27 col0\" >worst symmetry</td>\n",
       "                        <td id=\"T_74fbcea6_c595_11e9_b7f7_34415d8a70d1row27_col1\" class=\"data row27 col1\" >-0.672845</td>\n",
       "            </tr>\n",
       "            <tr>\n",
       "                        <th id=\"T_74fbcea6_c595_11e9_b7f7_34415d8a70d1level0_row28\" class=\"row_heading level0 row28\" >28</th>\n",
       "                        <td id=\"T_74fbcea6_c595_11e9_b7f7_34415d8a70d1row28_col0\" class=\"data row28 col0\" >worst compactness</td>\n",
       "                        <td id=\"T_74fbcea6_c595_11e9_b7f7_34415d8a70d1row28_col1\" class=\"data row28 col1\" >-1.13881</td>\n",
       "            </tr>\n",
       "            <tr>\n",
       "                        <th id=\"T_74fbcea6_c595_11e9_b7f7_34415d8a70d1level0_row29\" class=\"row_heading level0 row29\" >29</th>\n",
       "                        <td id=\"T_74fbcea6_c595_11e9_b7f7_34415d8a70d1row29_col0\" class=\"data row29 col0\" >worst concavity</td>\n",
       "                        <td id=\"T_74fbcea6_c595_11e9_b7f7_34415d8a70d1row29_col1\" class=\"data row29 col1\" >-1.58906</td>\n",
       "            </tr>\n",
       "    </tbody></table>"
      ],
      "text/plain": [
       "<pandas.io.formats.style.Styler at 0x1b6eb876c18>"
      ]
     },
     "execution_count": 94,
     "metadata": {},
     "output_type": "execute_result"
    }
   ],
   "source": [
    "problem.show_coefs()"
   ]
  },
  {
   "cell_type": "code",
   "execution_count": null,
   "metadata": {},
   "outputs": [],
   "source": []
  }
 ],
 "metadata": {
  "kernelspec": {
   "display_name": "Python 3",
   "language": "python",
   "name": "python3"
  },
  "language_info": {
   "codemirror_mode": {
    "name": "ipython",
    "version": 3
   },
   "file_extension": ".py",
   "mimetype": "text/x-python",
   "name": "python",
   "nbconvert_exporter": "python",
   "pygments_lexer": "ipython3",
   "version": "3.6.4"
  },
  "toc": {
   "base_numbering": 1,
   "nav_menu": {},
   "number_sections": true,
   "sideBar": true,
   "skip_h1_title": false,
   "title_cell": "Table of Contents",
   "title_sidebar": "Contents",
   "toc_cell": false,
   "toc_position": {},
   "toc_section_display": true,
   "toc_window_display": false
  }
 },
 "nbformat": 4,
 "nbformat_minor": 2
}
